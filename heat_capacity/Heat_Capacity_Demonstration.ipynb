{
 "cells": [
  {
   "cell_type": "markdown",
   "metadata": {},
   "source": [
    "# Heat Capacity Tutorial\n",
    "\n",
    "### In this simple Jupyter Notebook we will give you some introduction to python and the Ipython environment.\n"
   ]
  },
  {
   "cell_type": "markdown",
   "metadata": {},
   "source": [
    "Welcome to Jupyter Notebook, this is an interactive environment where you run cells as lines of code and get your output afterwards in a nice ordered way.  \n",
    "\n",
    "In order to run a cell you need to click on it and press {shift [⇧] + ENTER [↵]}. on the left side of the cell a symbol In [ * ] will appear. This means the kernel is thinking. Like if a small mouse in your computer was figuring out what you want. Once it is finished, your computer will show you the output you asked it for and [ * ]. will turn into a number [1] which means that is the first thing you asked it to do in this session. I know this is a lot of text and you want to get hands on, so just click on the next cell and press {shift [⇧] + ENTER [↵]}, the mouse inside your PC will salute you!"
   ]
  },
  {
   "cell_type": "code",
   "execution_count": null,
   "metadata": {},
   "outputs": [],
   "source": [
    "print('Hello! :D')"
   ]
  },
  {
   "cell_type": "markdown",
   "metadata": {},
   "source": [
    "See? It's neither magic nor a mouse, Python is the programming language behind this and we use functions to tell the computer what we want.\n",
    "\n",
    "Python works with variables that you assign something to, like functions, lists, arrays, dictionaries, etc.\n",
    "\n",
    "Usually a list looks like a shopping list [eggs, milk,fruit,mouse food] , an array looks like a matrix with dimensions like (number of samples, number of outputs) and usually stores big chunks of data inside. In the following cell you have an example."
   ]
  },
  {
   "cell_type": "code",
   "execution_count": null,
   "metadata": {},
   "outputs": [],
   "source": [
    "# We assign values to the shopping list:\n",
    "shopping_list = ['eggs', 'milk','fruit','mouse_food']\n",
    "\n",
    "# We assign some random  numbers to an array:\n",
    "values = [[1,2,3],[4,5,6]]\n",
    "\n",
    "print('This is a list =', shopping_list)\n",
    "print()\n",
    "print('This is an array = ', values)"
   ]
  },
  {
   "cell_type": "markdown",
   "metadata": {},
   "source": [
    "### Now we are going to load some energy data for a system and calculate the heat capacity\n",
    "\n",
    "After the brief introduction, in order to calculate the heat capacities we need to use some modules for python, Numpy (Numerical Python) for numerical operations and matplotlib to plot values. \n",
    "\n",
    "Modules are chunks of code that other people have written that we can load to do stuff.\n",
    "\n",
    "###### We load them by specifying him to import them:"
   ]
  },
  {
   "cell_type": "code",
   "execution_count": null,
   "metadata": {},
   "outputs": [],
   "source": [
    "import numpy as np \n",
    "import matplotlib.pyplot as plt\n",
    "from scipy.stats import norm"
   ]
  },
  {
   "cell_type": "markdown",
   "metadata": {},
   "source": [
    "Let's imagine we have finished 3 simulations of the same system at three different temperatures and we succesfully calculated the energy with NAMD. \n",
    "\n",
    "#### We have been asked to calculate the heat capacity of the systems."
   ]
  },
  {
   "cell_type": "markdown",
   "metadata": {},
   "source": [
    "Our first step should be loading the data into our session, in this case we have 3 files in the same folder, called after their temperature value. \n",
    "\n",
    "###### We can easily load them by using the command np.loadtxt():"
   ]
  },
  {
   "cell_type": "code",
   "execution_count": null,
   "metadata": {},
   "outputs": [],
   "source": [
    "# We load them using the np.loadtxt() function \n",
    "# and specifying the path of the files with a string ('PATH_TO_FILE'):\n",
    "\n",
    "sim1 = np.loadtxt('280K.dat')\n",
    "\n",
    "sim2 = np.loadtxt('298K.dat')\n",
    "\n",
    "sim3 = np.loadtxt('320K.dat')"
   ]
  },
  {
   "cell_type": "markdown",
   "metadata": {},
   "source": [
    "###### This way we have loaded the 3 files and assigned them to 3 variables. Let's have a check on them. "
   ]
  },
  {
   "cell_type": "code",
   "execution_count": null,
   "metadata": {},
   "outputs": [],
   "source": [
    "# Using print() and the attribute .shape of our variable we can get what our data files look like:\n",
    "\n",
    "print('Our Simulation data files have this shape (Data-points or steps, Values) =', sim1.shape)"
   ]
  },
  {
   "cell_type": "markdown",
   "metadata": {},
   "source": [
    "##### This means we have 20 different energy terms to chose from, if we select the 13th column we get total energies for them:"
   ]
  },
  {
   "cell_type": "code",
   "execution_count": null,
   "metadata": {},
   "outputs": [],
   "source": [
    "# In this case we extract the 13th column by specifying the index [13] after transposing the data with .T \n",
    "# We also cut the first 300 frames [300:] because they are not relevant to us:\n",
    "\n",
    "sim1_e = sim1[300:].T[13]\n",
    "\n",
    "sim2_e = sim2[300:].T[13]\n",
    "\n",
    "sim3_e = sim3[300:].T[13]"
   ]
  },
  {
   "cell_type": "markdown",
   "metadata": {},
   "source": [
    "Now we are gonna plot the data points that we have for each simulation. But before that we will check the number of data points for each:"
   ]
  },
  {
   "cell_type": "code",
   "execution_count": null,
   "metadata": {},
   "outputs": [],
   "source": [
    "# Again, with .shape we can check the size of our variables,\n",
    "# but to be more fancy we will use len() which shows you the length of a list of values:\n",
    "\n",
    "print('The first simulation has', len(sim1_e),'data points.' )\n",
    "print('The second simulation has', len(sim2_e),'data points.')\n",
    "print('The third simulation has', len(sim3_e),'data points.' )\n",
    "\n"
   ]
  },
  {
   "cell_type": "markdown",
   "metadata": {},
   "source": [
    "Now that we know the number of data points, let's try to plot it to see what they look-like exactly:\n",
    "\n",
    "###### We will use matplotlib in order to do that:"
   ]
  },
  {
   "cell_type": "code",
   "execution_count": null,
   "metadata": {},
   "outputs": [],
   "source": [
    "#Let's plot the values for each one:\n",
    "plt.figure()\n",
    "plt.plot(sim1_e, label='T_1')\n",
    "plt.plot(sim2_e, label='T_2')\n",
    "plt.plot(sim3_e, label='T_3')\n",
    "plt.xlabel('Time steps (ps)')\n",
    "plt.ylabel('Energy (Kcal/mol)')\n",
    "plt.title('Energy values vs time')\n",
    "plt.legend();"
   ]
  },
  {
   "cell_type": "markdown",
   "metadata": {},
   "source": [
    "This is the resulting plot showing the energies vs time, as you see the T_2 is a shorter one, but they clearly have 3 different values of energy, and it makes sense because they were run at 3 different temperatures."
   ]
  },
  {
   "cell_type": "markdown",
   "metadata": {},
   "source": [
    "Now we are going to plot the Probability Density Function (PDF) of the total energy for each simulation and do a simple fit to check the distribution landscape. \n",
    "\n",
    "The PDF tells us how likely each value of energy is (based on the simulation data we loaded).\n",
    "###### To do this we use norm.fit() and the matplotlib module again to plot them:"
   ]
  },
  {
   "cell_type": "code",
   "execution_count": null,
   "metadata": {},
   "outputs": [],
   "source": [
    "#Fit the distributions for each one:\n",
    "mu_1, std_1 = norm.fit(sim1_e)\n",
    "mu_2, std_2 = norm.fit(sim2_e)\n",
    "mu_3, std_3 = norm.fit(sim3_e)\n",
    "\n",
    "#Define the number of bins to use:\n",
    "bins = 60\n",
    "\n",
    "#Plot the Histograms:\n",
    "\n",
    "#####First One####\n",
    "\n",
    "plt.figure()\n",
    "plt.hist(sim1_e, bins=bins, density=True, alpha=0.6, color='r')\n",
    "xmin, xmax = plt.xlim()\n",
    "x = np.linspace(xmin, xmax, 100)\n",
    "p = norm.pdf(x, mu_1, std_1)\n",
    "plt.plot(x, p, 'k', linewidth=2)\n",
    "plt.title(\"First Simulation (T-1)\", fontsize=15)\n",
    "plt.xlabel(\"Energy (Kcal/mol)\", fontsize=15)\n",
    "plt.ylabel(\"PDF\", fontsize=15)\n",
    "plt.show()\n",
    "print(\"Fit results: <E> = %.2f,  σ = %.2f\" % (mu_1, std_1))\n",
    "print()\n",
    "print()\n",
    "\n",
    "#####Second One####\n",
    "\n",
    "plt.figure()\n",
    "plt.hist(sim2_e, bins=bins, density=True, alpha=0.6, color='b')\n",
    "xmin, xmax = plt.xlim()\n",
    "x = np.linspace(xmin, xmax, 100)\n",
    "p = norm.pdf(x, mu_2, std_2)\n",
    "plt.plot(x, p, 'k', linewidth=2)\n",
    "plt.title(\"Second Simulation (T-2)\", fontsize=15)\n",
    "plt.xlabel(\"Energy (Kcal/mol)\", fontsize=15)\n",
    "plt.ylabel(\"PDF\", fontsize=15)\n",
    "plt.show()\n",
    "print(\"Fit results: <E> = %.2f,  σ = %.2f\" % (mu_2, std_2))\n",
    "print()\n",
    "print()\n",
    "\n",
    "#####Third One####\n",
    "\n",
    "plt.figure()\n",
    "plt.hist(sim3_e, bins=bins, density=True, alpha=0.6, color='g')\n",
    "xmin, xmax = plt.xlim()\n",
    "x = np.linspace(xmin, xmax, 100)\n",
    "p = norm.pdf(x, mu_3, std_3)\n",
    "plt.plot(x, p, 'k', linewidth=2)\n",
    "plt.title(\"Third Simulation (T-3)\", fontsize=15)\n",
    "plt.xlabel(\"Energy (Kcal/mol)\", fontsize=15)\n",
    "plt.ylabel(\"PDF\", fontsize=15)\n",
    "plt.show()\n",
    "print(\"Fit results: <E> = %.2f,  σ = %.2f\" % (mu_3, std_3));\n",
    "print()\n",
    "print()\n"
   ]
  },
  {
   "cell_type": "markdown",
   "metadata": {},
   "source": [
    "This is what the histograms look like, and as expected, the average energy $\\langle E \\rangle$ gets smaller as the temperature decreases. Also their standard deviations (σ) are similar. Now if we plot the average energy $\\langle E \\rangle$ against the temperature we get a linear fit with a certain slope. "
   ]
  },
  {
   "cell_type": "code",
   "execution_count": null,
   "metadata": {},
   "outputs": [],
   "source": [
    "\n",
    "T = [280,298,320]\n",
    "\n",
    "mu = [mu_1,mu_2,mu_3]\n",
    "std = [std_1,std_2,std_3]\n",
    "\n",
    "plt.figure()\n",
    "plt.plot(T,mu, '-o')\n",
    "plt.title('Mean energy <E> vs temperature T', fontsize=15)\n",
    "plt.ylabel('<Energy>', fontsize=15)\n",
    "plt.xlabel('Temperature',fontsize=15)\n",
    "plt.show()\n"
   ]
  },
  {
   "cell_type": "markdown",
   "metadata": {},
   "source": [
    "To calculate the Heat Capacity $C_v$, we do a polynomial fit of the values for the $\\langle E \\rangle$ vs T.\n",
    "\n",
    "Since we are plotting $\\langle E \\rangle$ vs T, the slope of the fitting line is $\\frac{d \\langle E \\rangle}{dt}$. \n",
    "\n",
    "So the slope of the line will give us our heat capacity since $C_v=\\frac{d \\langle E \\rangle}{dt}$"
   ]
  },
  {
   "cell_type": "markdown",
   "metadata": {},
   "source": [
    "###### We do the polynomial fit:"
   ]
  },
  {
   "cell_type": "code",
   "execution_count": null,
   "metadata": {},
   "outputs": [],
   "source": [
    "\n",
    "poly_coeficients = np.polyfit(T,mu,1)\n",
    "\n",
    "print('The polynomial fit has this terms (y = ax +b):','y =',poly_coeficients[0],'X','+','(',poly_coeficients[1],')')\n",
    "print()\n"
   ]
  },
  {
   "cell_type": "markdown",
   "metadata": {},
   "source": [
    "###### And we show the slope term from the linear fit coeficients:"
   ]
  },
  {
   "cell_type": "code",
   "execution_count": null,
   "metadata": {},
   "outputs": [],
   "source": [
    "cV = poly_coeficients[0]\n",
    "\n",
    "print('Cv of the linear fit for Energy vs T =',cV)"
   ]
  },
  {
   "cell_type": "markdown",
   "metadata": {},
   "source": [
    "#### Another way to calculate the heat capacity of our system is from the fluctuations, using the formula $\\sigma = kT^2C_v$"
   ]
  },
  {
   "cell_type": "code",
   "execution_count": null,
   "metadata": {},
   "outputs": [],
   "source": [
    "#We plot the standard deviation of our data\n",
    "plt.figure()\n",
    "plt.plot(T,std,'-o',color='C1')\n",
    "plt.title('Standard Deviation (σ) vs temperature', fontsize=15)\n",
    "plt.xlabel('Temperature', fontsize=15)\n",
    "plt.ylabel('<Standard deviation (kcal/mol)>', fontsize=15)\n",
    "plt.show()"
   ]
  },
  {
   "cell_type": "code",
   "execution_count": null,
   "metadata": {},
   "outputs": [],
   "source": [
    "#We define the value of the Boltzmann constant\n",
    "R = 1.987/1000\n",
    "\n",
    "print()\n",
    "print('The Boltzmann constant is R =',R)\n",
    "print()\n",
    "\n",
    "#And we calculate the Cv from the fluctuations at three temperatures with the formula \n",
    "cV_fluc1 = (std[0]**2)/(R*(T[0]**2))\n",
    "cV_fluc2 = (std[1]**2)/(R*(T[1]**2))\n",
    "cV_fluc3 = (std[2]**2)/(R*(T[2]**2))\n",
    "\n",
    "print('The heat capacity fluctuations for the three temperatures are:')\n",
    "print()\n",
    "print('T280 =',cV_fluc1)\n",
    "print('T298 =',cV_fluc2)\n",
    "print('T320 =',cV_fluc3)\n",
    "print()"
   ]
  }
 ],
 "metadata": {
  "kernelspec": {
   "display_name": "Python 3",
   "language": "python",
   "name": "python3"
  },
  "language_info": {
   "codemirror_mode": {
    "name": "ipython",
    "version": 3
   },
   "file_extension": ".py",
   "mimetype": "text/x-python",
   "name": "python",
   "nbconvert_exporter": "python",
   "pygments_lexer": "ipython3",
   "version": "3.7.6"
  }
 },
 "nbformat": 4,
 "nbformat_minor": 2
}
